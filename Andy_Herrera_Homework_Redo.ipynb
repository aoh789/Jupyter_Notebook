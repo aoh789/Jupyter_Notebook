{
 "cells": [
  {
   "cell_type": "code",
   "execution_count": 1,
   "metadata": {},
   "outputs": [
    {
     "name": "stdout",
     "output_type": "stream",
     "text": [
      "DATE: 03/06/18\n",
      "TIME: 14:05:43\n"
     ]
    }
   ],
   "source": [
    "Displays the Date according to the specification given as percentages.\n",
    "date \"+DATE: %m/%d/%y%nTIME: %H:%M:%S\""
   ]
  },
  {
   "cell_type": "code",
   "execution_count": 7,
   "metadata": {},
   "outputs": [
    {
     "name": "stdout",
     "output_type": "stream",
     "text": [
      "\n",
      "Host Name:                 DESKTOP-M3PE53O\n",
      "OS Name:                   Microsoft Windows 10 Enterprise Evaluation\n",
      "OS Version:                10.0.16299 N/A Build 16299\n",
      "OS Manufacturer:           Microsoft Corporation\n",
      "OS Configuration:          Standalone Workstation\n",
      "OS Build Type:             Multiprocessor Free\n",
      "Registered Owner:          Windows User\n",
      "Registered Organization:   \n",
      "Product ID:                00329-20000-00001-AA273\n",
      "Original Install Date:     2/9/2018, 1:51:12 AM\n",
      "System Boot Time:          3/5/2018, 6:40:18 PM\n",
      "System Manufacturer:       innotek GmbH\n",
      "System Model:              VirtualBox\n",
      "System Type:               x64-based PC\n",
      "Processor(s):              1 Processor(s) Installed.\n",
      "                           [01]: AMD64 Family 21 Model 96 Stepping 1 AuthenticAMD ~1797 Mhz\n",
      "BIOS Version:              innotek GmbH VirtualBox, 12/1/2006\n",
      "Windows Directory:         C:\\Windows\n",
      "System Directory:          C:\\Windows\\system32\n",
      "Boot Device:               \\Device\\HarddiskVolume1\n",
      "System Locale:             en-us;English (United States)\n",
      "Input Locale:              en-us;English (United States)\n",
      "Time Zone:                 (UTC-08:00) Pacific Time (US & Canada)\n",
      "Total Physical Memory:     2,048 MB\n",
      "Available Physical Memory: 661 MB\n",
      "Virtual Memory: Max Size:  2,688 MB\n",
      "Virtual Memory: Available: 1,283 MB\n",
      "Virtual Memory: In Use:    1,405 MB\n",
      "Page File Location(s):     C:\\pagefile.sys\n",
      "Domain:                    WORKGROUP\n",
      "Logon Server:              \\\\DESKTOP-M3PE53O\n",
      "Hotfix(s):                 4 Hotfix(s) Installed.\n",
      "                           [01]: KB4054022\n",
      "                           [02]: KB4056887\n",
      "                           [03]: KB4058043\n",
      "                           [04]: KB4074595\n",
      "Network Card(s):           1 NIC(s) Installed.\n",
      "                           [01]: Intel(R) PRO/1000 MT Desktop Adapter\n",
      "                                 Connection Name: Ethernet\n",
      "                                 DHCP Enabled:    Yes\n",
      "                                 DHCP Server:     192.168.254.254\n",
      "                                 IP address(es)\n",
      "                                 [01]: 192.168.254.25\n",
      "                                 [02]: fe80::dc52:4908:b7a3:ac50\n",
      "Hyper-V Requirements:      A hypervisor has been detected. Features required for Hyper-V will not be displayed.\n",
      "arp -a\n",
      "\n",
      "Interface: 19"
     ]
    }
   ],
   "source": [
    "Displays the operating system information. This includes the hostname, date installed, how many processors are being utilized, and much more.\n",
    "systeminfo"
   ]
  },
  {
   "cell_type": "code",
   "execution_count": 5,
   "metadata": {},
   "outputs": [
    {
     "name": "stdout",
     "output_type": "stream",
     "text": [
      "\n",
      "Interface: 192.168.254.25 --- 0x4\n",
      "  Internet Address      Physical Address      Type\n",
      "  192.168.254.1         b8-3e-59-45-97-a8     dynamic   \n",
      "  192.168.254.6         82-16-f9-3d-0f-a6     dynamic   \n",
      "  192.168.254.254       4c-17-eb-30-8b-16     dynamic   \n",
      "  192.168.254.255       ff-ff-ff-ff-ff-ff     static    \n",
      "  224.0.0.22            01-00-5e-00-00-16     static    \n",
      "  224.0.0.252           01-00-5e-00-00-fc     static    \n",
      "  239.255.255.250       01-00-5e-7f-ff-fa     static    \n",
      "  255.255.255.255       ff-ff-ff-ff-ff-ff     static    \n"
     ]
    }
   ],
   "source": [
    "Shows the arp table. This includes the MAC addresses of what is on the current network.\n",
    "arp -a"
   ]
  },
  {
   "cell_type": "code",
   "execution_count": 7,
   "metadata": {},
   "outputs": [
    {
     "name": "stdout",
     "output_type": "stream",
     "text": [
      "===========================================================================\n",
      "Interface List\n",
      "  4...08 00 27 8c 94 78 ......Intel(R) PRO/1000 MT Desktop Adapter\n",
      "  1...........................Software Loopback Interface 1\n",
      "  9...00 00 00 00 00 00 00 e0 Teredo Tunneling Pseudo-Interface\n",
      "===========================================================================\n",
      "\n",
      "IPv4 Route Table\n",
      "===========================================================================\n",
      "Active Routes:\n",
      "Network Destination        Netmask          Gateway       Interface  Metric\n",
      "          0.0.0.0          0.0.0.0  192.168.254.254   192.168.254.25     25\n",
      "        127.0.0.0        255.0.0.0         On-link         127.0.0.1    331\n",
      "        127.0.0.1  255.255.255.255         On-link         127.0.0.1    331\n",
      "  127.255.255.255  255.255.255.255         On-link         127.0.0.1    331\n",
      "    192.168.254.0    255.255.255.0         On-link    192.168.254.25    281\n",
      "   192.168.254.25  255.255.255.255         On-link    192.168.254.25    281\n",
      "  192.168.254.255  255.255.255.255         On-link    192.168.254.25    281\n",
      "        224.0.0.0        240.0.0.0         On-link         127.0.0.1    331\n",
      "        224.0.0.0        240.0.0.0         On-link    192.168.254.25    281\n",
      "  255.255.255.255  255.255.255.255         On-link         127.0.0.1    331\n",
      "  255.255.255.255  255.255.255.255         On-link    192.168.254.25    281\n",
      "===========================================================================\n",
      "Persistent Routes:\n",
      "  None\n",
      "\n",
      "IPv6 Route Table\n",
      "===========================================================================\n",
      "Active Routes:\n",
      " If Metric Network Destination      Gateway\n",
      "  9    331 ::/0                     On-link\n",
      "  1    331 ::1/128                  On-link\n",
      "  9    331 2001::/32                On-link\n",
      "  9    331 2001:0:5ef5:79fb:204d:1220:3f57:1e6/128\n",
      "                                    On-link\n",
      "  4    281 fe80::/64                On-link\n",
      "  9    331 fe80::/64                On-link\n",
      "  9    331 fe80::204d:1220:3f57:1e6/128\n",
      "                                    On-link\n",
      "  4    281 fe80::dc52:4908:b7a3:ac50/128\n",
      "                                    On-link\n",
      "  1    331 ff00::/8                 On-link\n",
      "  4    281 ff00::/8                 On-link\n",
      "  9    331 ff00::/8                 On-link\n",
      "===========================================================================\n",
      "Persistent Routes:\n",
      "  None\n"
     ]
    }
   ],
   "source": [
    "This shows the routing table of the computer. This includes ipv4 and ipv6 routes.\n",
    "route print"
   ]
  }
 ],
 "metadata": {
  "kernelspec": {
   "display_name": "PowerShell",
   "language": "powershell",
   "name": "powershell"
  },
  "language_info": {
   "codemirror_mode": "shell",
   "file_extension": ".ps1",
   "mimetype": "text/x-sh",
   "name": "powershell"
  }
 },
 "nbformat": 4,
 "nbformat_minor": 2
}
